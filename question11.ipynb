{
 "cells": [
  {
   "cell_type": "markdown",
   "id": "7501d958-88a7-4828-825a-0d774bd89ae8",
   "metadata": {},
   "source": [
    "# Meng-Chen Wu\n",
    "Notebook for assignment 7"
   ]
  },
  {
   "cell_type": "code",
   "execution_count": 6,
   "id": "30d026c0-bf3d-4555-91fd-583f267d5849",
   "metadata": {},
   "outputs": [
    {
     "name": "stdout",
     "output_type": "stream",
     "text": [
      "5.0\n"
     ]
    }
   ],
   "source": [
    "def compute_mean(x): \n",
    "    mean_x = sum(x)/len(x)\n",
    "    print(mean_x)\n",
    "compute_mean([2, 4, 6, 8])"
   ]
  },
  {
   "cell_type": "markdown",
   "id": "1fcd2019-c5d3-448e-b23f-683c3212c41b",
   "metadata": {},
   "source": [
    "$$\n",
    "mean = \\frac{x_1 + x_2 + \\dots + x_n}{n}=\\frac{1}{n}\\left(\\sum_{i=1}^{n} X_i \\right)\n",
    "$$"
   ]
  },
  {
   "cell_type": "code",
   "execution_count": null,
   "id": "b5ec750e-9281-4728-af4e-607b9fc61938",
   "metadata": {},
   "outputs": [],
   "source": []
  }
 ],
 "metadata": {
  "kernelspec": {
   "display_name": "Python [conda env:base] *",
   "language": "python",
   "name": "conda-base-py"
  },
  "language_info": {
   "codemirror_mode": {
    "name": "ipython",
    "version": 3
   },
   "file_extension": ".py",
   "mimetype": "text/x-python",
   "name": "python",
   "nbconvert_exporter": "python",
   "pygments_lexer": "ipython3",
   "version": "3.12.8"
  }
 },
 "nbformat": 4,
 "nbformat_minor": 5
}
